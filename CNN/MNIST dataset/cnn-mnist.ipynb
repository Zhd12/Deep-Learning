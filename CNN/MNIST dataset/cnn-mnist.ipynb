{
 "cells": [
  {
   "cell_type": "code",
   "execution_count": 1,
   "metadata": {},
   "outputs": [
    {
     "name": "stderr",
     "output_type": "stream",
     "text": [
      "c:\\Users\\z\\AppData\\Local\\Programs\\Python\\Python311\\Lib\\site-packages\\keras\\src\\layers\\convolutional\\base_conv.py:99: UserWarning: Do not pass an `input_shape`/`input_dim` argument to a layer. When using Sequential models, prefer using an `Input(shape)` object as the first layer in the model instead.\n",
      "  super().__init__(\n"
     ]
    },
    {
     "name": "stdout",
     "output_type": "stream",
     "text": [
      "Epoch 1/12\n",
      "\u001b[1m120/120\u001b[0m \u001b[32m━━━━━━━━━━━━━━━━━━━━\u001b[0m\u001b[37m\u001b[0m \u001b[1m56s\u001b[0m 440ms/step - accuracy: 0.7616 - loss: 0.8190\n",
      "Epoch 2/12\n",
      "\u001b[1m120/120\u001b[0m \u001b[32m━━━━━━━━━━━━━━━━━━━━\u001b[0m\u001b[37m\u001b[0m \u001b[1m51s\u001b[0m 425ms/step - accuracy: 0.9717 - loss: 0.1047\n",
      "Epoch 3/12\n",
      "\u001b[1m120/120\u001b[0m \u001b[32m━━━━━━━━━━━━━━━━━━━━\u001b[0m\u001b[37m\u001b[0m \u001b[1m56s\u001b[0m 466ms/step - accuracy: 0.9835 - loss: 0.0614\n",
      "Epoch 4/12\n",
      "\u001b[1m120/120\u001b[0m \u001b[32m━━━━━━━━━━━━━━━━━━━━\u001b[0m\u001b[37m\u001b[0m \u001b[1m51s\u001b[0m 424ms/step - accuracy: 0.9881 - loss: 0.0438\n",
      "Epoch 5/12\n",
      "\u001b[1m120/120\u001b[0m \u001b[32m━━━━━━━━━━━━━━━━━━━━\u001b[0m\u001b[37m\u001b[0m \u001b[1m60s\u001b[0m 498ms/step - accuracy: 0.9910 - loss: 0.0349\n",
      "Epoch 6/12\n",
      "\u001b[1m120/120\u001b[0m \u001b[32m━━━━━━━━━━━━━━━━━━━━\u001b[0m\u001b[37m\u001b[0m \u001b[1m57s\u001b[0m 470ms/step - accuracy: 0.9936 - loss: 0.0267\n",
      "Epoch 7/12\n",
      "\u001b[1m120/120\u001b[0m \u001b[32m━━━━━━━━━━━━━━━━━━━━\u001b[0m\u001b[37m\u001b[0m \u001b[1m62s\u001b[0m 513ms/step - accuracy: 0.9955 - loss: 0.0199\n",
      "Epoch 8/12\n",
      "\u001b[1m120/120\u001b[0m \u001b[32m━━━━━━━━━━━━━━━━━━━━\u001b[0m\u001b[37m\u001b[0m \u001b[1m61s\u001b[0m 505ms/step - accuracy: 0.9961 - loss: 0.0174\n",
      "Epoch 9/12\n",
      "\u001b[1m120/120\u001b[0m \u001b[32m━━━━━━━━━━━━━━━━━━━━\u001b[0m\u001b[37m\u001b[0m \u001b[1m58s\u001b[0m 482ms/step - accuracy: 0.9975 - loss: 0.0134\n",
      "Epoch 10/12\n",
      "\u001b[1m120/120\u001b[0m \u001b[32m━━━━━━━━━━━━━━━━━━━━\u001b[0m\u001b[37m\u001b[0m \u001b[1m58s\u001b[0m 484ms/step - accuracy: 0.9982 - loss: 0.0106\n",
      "Epoch 11/12\n",
      "\u001b[1m120/120\u001b[0m \u001b[32m━━━━━━━━━━━━━━━━━━━━\u001b[0m\u001b[37m\u001b[0m \u001b[1m63s\u001b[0m 524ms/step - accuracy: 0.9983 - loss: 0.0094\n",
      "Epoch 12/12\n",
      "\u001b[1m120/120\u001b[0m \u001b[32m━━━━━━━━━━━━━━━━━━━━\u001b[0m\u001b[37m\u001b[0m \u001b[1m65s\u001b[0m 543ms/step - accuracy: 0.9988 - loss: 0.0073\n",
      "Test loss: 0.02827317640185356\n",
      "Test accuracy: 0.9905999898910522\n",
      "\u001b[1m313/313\u001b[0m \u001b[32m━━━━━━━━━━━━━━━━━━━━\u001b[0m\u001b[37m\u001b[0m \u001b[1m4s\u001b[0m 13ms/step\n",
      "Predicted class for example 2 : 1\n"
     ]
    },
    {
     "data": {
      "image/png": "[encoded data removed]",
      "text/plain": [
       "<Figure size 640x480 with 1 Axes>"
      ]
     },
     "metadata": {},
     "output_type": "display_data"
    }
   ],
   "source": [
    "import numpy as np\n",
    "import matplotlib.pyplot as plt\n",
    "import keras\n",
    "from keras.models import Sequential\n",
    "from keras.layers import Conv2D, Dense, Input, MaxPooling2D, Flatten, Dropout\n",
    "\n",
    "# Load the MNIST dataset\n",
    "file_path = './mnist.npz'\n",
    "with np.load(file_path) as data:\n",
    "    X_train = data['x_train']\n",
    "    y_train = data['y_train']\n",
    "    X_test = data['x_test']\n",
    "    y_test = data['y_test']\n",
    "\n",
    "# Preprocess data\n",
    "# Convert integer pixel values to float for better computation\n",
    "X_train = X_train.astype('float32')\n",
    "X_test = X_test.astype('float32')\n",
    "\n",
    "# Normalize pixel values to the range [0, 1] for better training\n",
    "X_train /= 255\n",
    "X_test /= 255\n",
    "\n",
    "# One-hot encode target labels (convert class vectors to binary matrices)\n",
    "y_train = keras.utils.to_categorical(y_train)\n",
    "y_test = keras.utils.to_categorical(y_test)\n",
    "\n",
    "# Define the convolutional neural network (CNN) model\n",
    "model = Sequential([\n",
    "    # First convolutional layer with 32 filters, 3x3 kernel size, ReLU activation\n",
    "    Conv2D(32, kernel_size=(3, 3), activation='relu', input_shape=(28, 28, 1)),\n",
    "    # Second convolutional layer with 64 filters, 3x3 kernel size, ReLU activation\n",
    "    Conv2D(64, kernel_size=(3, 3), activation='relu', input_shape=(28, 28, 1)),\n",
    "    # Max pooling layer for downsampling\n",
    "    MaxPooling2D(pool_size=(2, 2)),  # Updated pool size to match MNIST image dimensions\n",
    "    # Dropout layer to prevent overfitting (20% chance of dropping a neuron)\n",
    "    Dropout(0.2),\n",
    "    # Flatten the layer before feeding into dense layers\n",
    "    Flatten(),\n",
    "    # First dense layer with 250 neurons and sigmoid activation\n",
    "    Dense(250, activation='sigmoid'),\n",
    "    # Output layer with 10 neurons (one for each digit class) and softmax activation\n",
    "    Dense(10, activation='softmax')\n",
    "])\n",
    "\n",
    "# Compile the model: optimizer, loss function, and metrics\n",
    "model.compile(optimizer=keras.optimizers.Adam(), loss=keras.losses.categorical_crossentropy, metrics=['accuracy'])\n",
    "\n",
    "# Train the model\n",
    "model.fit(X_train, y_train, epochs=12, batch_size=500)\n",
    "\n",
    "# Evaluate the model on test data\n",
    "score = model.evaluate(X_test, y_test, verbose=0)\n",
    "print('Test loss:', score[0])\n",
    "print('Test accuracy:', score[1])\n",
    "\n",
    "# Make predictions on the test data\n",
    "predictions = model.predict(X_test)\n",
    "\n",
    "# Get the predicted class for a specific example (index 2)\n",
    "predicted_class = np.argmax(np.round(predictions[2]))  # Assuming you want to predict the class for index 2\n",
    "print('Predicted class for example', 2, ':', predicted_class)\n",
    "\n",
    "# Visualize the predicted digit (example index 2)\n",
    "plt.imshow(X_test[2].reshape(28, 28), cmap=plt.cm.binary)\n",
    "plt.show()\n"
   ]
  }
 ],
 "metadata": {
  "kernelspec": {
   "display_name": "Python 3",
   "language": "python",
   "name": "python3"
  },
  "language_info": {
   "codemirror_mode": {
    "name": "ipython",
    "version": 3
   },
   "file_extension": ".py",
   "mimetype": "text/x-python",
   "name": "python",
   "nbconvert_exporter": "python",
   "pygments_lexer": "ipython3",
   "version": "3.11.4"
  }
 },
 "nbformat": 4,
 "nbformat_minor": 2
}
